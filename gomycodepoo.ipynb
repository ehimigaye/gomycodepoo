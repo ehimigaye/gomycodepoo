{
 "cells": [
  {
   "cell_type": "code",
   "execution_count": 3,
   "id": "51d0f37d",
   "metadata": {},
   "outputs": [
    {
     "name": "stdout",
     "output_type": "stream",
     "text": [
      "my_point.x : x my_point.y : y my_point.z : z\n",
      "my_point.x : 1 my_point.y : 2 my_point.z : 3\n"
     ]
    }
   ],
   "source": [
    "#Question 1:\n",
    "class Point3D: # creation de la class Point3D\n",
    "    def __init__(self,x,y,z):# creons une methodes renvoyant à des objets avec trois parametres :\n",
    "        self.x = x\n",
    "        self.y = y\n",
    "        self.z = z\n",
    "#etablissons un premier object qui ressort les differents parametres commes arguments        \n",
    "my_point = Point3D(\"x\",\"y\",\"z\")\n",
    "print(\"my_point.x :\", my_point.x,\"my_point.y :\", my_point.y,\"my_point.z :\", my_point.z)\n",
    "#etablissons un objet dont les arguments ressortens comme les coordonées 3d d' un point\n",
    "my_point = Point3D(1,2,3)\n",
    "print(\"my_point.x :\", my_point.x,\"my_point.y :\", my_point.y,\"my_point.z :\", my_point.z)\n",
    " \n",
    "    \n",
    "    "
   ]
  },
  {
   "cell_type": "code",
   "execution_count": 1,
   "id": "9c201e6d",
   "metadata": {},
   "outputs": [
    {
     "name": "stdout",
     "output_type": "stream",
     "text": [
      "perimetre du rectangle est : 14\n",
      "la surface du rectangle est: 12\n",
      "perimetre du rectangle est : 14 la surface du rectangle est: 12\n"
     ]
    }
   ],
   "source": [
    "#Question 2:\n",
    "#Creons la classe rectangle:\n",
    "class Rectangle:\n",
    "    #definir ses atrributs longueur et largeur :\n",
    "    def __init__(self,longueur, largeur):\n",
    "        self.longueur=longueur\n",
    "        self.largeur=largeur\n",
    "    #definir la methode du perimetre:\n",
    "    def perimetre(self):\n",
    "        print(\"perimetre du rectangle est :\",(self.longueur+self.largeur)*2)\n",
    "     #definir la methode de la surface:\n",
    "    def surface(self):\n",
    "        print(\"la surface du rectangle est:\", self.longueur * self.largeur)\n",
    "    #definir une methode commune \n",
    "    def perimaire(self):\n",
    "        print(\"perimetre du rectangle est :\",(self.longueur+self.largeur)*2,\"la surface du rectangle est:\", self.longueur * self.largeur)\n",
    "#creons la variable\n",
    "my_rectangle = Rectangle(4,3)\n",
    "#verifions les resultats\n",
    "my_rectangle .perimetre(),my_rectangle .surface()\n",
    "my_rectangle .perimaire()"
   ]
  },
  {
   "cell_type": "code",
   "execution_count": 7,
   "id": "000df5e1",
   "metadata": {},
   "outputs": [
    {
     "name": "stdout",
     "output_type": "stream",
     "text": [
      "le perimetre du cercle : 31.41592653589793\n",
      " la surface du cercle : 78.53981633974483\n",
      "le point ne fait pas partie du cercle\n"
     ]
    }
   ],
   "source": [
    "# Question 3:\n",
    "#creeons la class circle :\n",
    "class Circle :\n",
    "    #definissions les coordonnées de son centre O et son rayon\n",
    "    def __init__(self, abscO, ordO, r):\n",
    "       self.abscO = abscO\n",
    "       self.ordO = ordO\n",
    "       self.r= r\n",
    "    #creons la fonction perimetre\n",
    "    def perim(self):\n",
    "        import math# importons math pour la valeur de pi\n",
    "        print( \"le perimetre du cercle :\", math.pi*2*self.r)\n",
    "    #creons la fonction surface\n",
    "    def surface(self):\n",
    "        import math \n",
    "        print(\" la surface du cercle :\", math.pi*(self.r)**2)\n",
    "    #integrons les coordonnées du point à verifier\n",
    "    def point(self,x, y):\n",
    "        self.x=x\n",
    "        self.y=y\n",
    "    #la fonction de comparaison en fonction de la formule de coordonnées du cercle\n",
    "    def inside(self):\n",
    "        V= ((self.x-self.abscO)**2)+((self.y-self.ordO)**2) - self.r**2\n",
    "        if V <= 0:\n",
    "            print(\"le point fait partie du cercle\")\n",
    "        else :\n",
    "            print(\"le point ne fait pas partie du cercle\")\n",
    "            \n",
    "        \n",
    "#integrons le cercle \n",
    "Cercle = Circle(1,4,5)\n",
    "#donnons son perimetre et sa surface\n",
    "Cercle.perim()\n",
    "Cercle.surface()\n",
    "#determinons le point à comparer\n",
    "p = Cercle.point(7,8)\n",
    "#faisons la comparaison \n",
    "Cercle.inside()"
   ]
  },
  {
   "cell_type": "code",
   "execution_count": 3,
   "id": "19131015",
   "metadata": {},
   "outputs": [
    {
     "name": "stdout",
     "output_type": "stream",
     "text": [
      "le solde est de : 10150000\n",
      "retrait accepté le solde votre compte est : 2286667\n"
     ]
    }
   ],
   "source": [
    "#question 4:\n",
    "#creeons la classe bank :\n",
    "class Bank:\n",
    "    #creons le attributs de base numeros de compte et solde\n",
    "    def __init__(self, Numcompte,solde  ):\n",
    "        self.Numcompte = Numcompte\n",
    "        self.solde = solde\n",
    "     #creons la methode depot   \n",
    "    def depot(self,depot):\n",
    "        self.solde = self.solde+depot\n",
    "        print(\"le solde est de :\" , self.solde)\n",
    "     #creons la methode retrait en tenant compte de la provision du compte   \n",
    "    def retrait(self,retrait):\n",
    "        if self.solde - retrait < 0:\n",
    "            print(\"insuffisance de provision, retrait impossible \")\n",
    "        else :\n",
    "            print (\"retrait accepté le solde votre compte est :\", self.solde-retrait)\n",
    "          \n",
    "    \n",
    "#testons le code en creant un compte avec son identitifiant et son solde\n",
    "compte = Bank(1425, 10000000)\n",
    "#faisons un depot de \n",
    "compte.depot(150000)\n",
    "#ensuite un retrait\n",
    "compte.retrait(7863333)\n",
    "# enfin un recapitulatif\n"
   ]
  },
  {
   "cell_type": "code",
   "execution_count": null,
   "id": "cc2800ab",
   "metadata": {},
   "outputs": [],
   "source": []
  }
 ],
 "metadata": {
  "kernelspec": {
   "display_name": "Python 3 (ipykernel)",
   "language": "python",
   "name": "python3"
  },
  "language_info": {
   "codemirror_mode": {
    "name": "ipython",
    "version": 3
   },
   "file_extension": ".py",
   "mimetype": "text/x-python",
   "name": "python",
   "nbconvert_exporter": "python",
   "pygments_lexer": "ipython3",
   "version": "3.9.13"
  }
 },
 "nbformat": 4,
 "nbformat_minor": 5
}
